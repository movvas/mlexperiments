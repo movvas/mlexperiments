{
  "nbformat": 4,
  "nbformat_minor": 0,
  "metadata": {
    "colab": {
      "name": "sine_function.ipynb",
      "version": "0.3.2",
      "provenance": [],
      "collapsed_sections": [],
      "include_colab_link": true
    },
    "kernelspec": {
      "name": "python2",
      "display_name": "Python 2"
    },
    "accelerator": "TPU"
  },
  "cells": [
    {
      "cell_type": "markdown",
      "metadata": {
        "id": "view-in-github",
        "colab_type": "text"
      },
      "source": [
        "<a href=\"https://colab.research.google.com/github/movvas/mlexperiments/blob/master/sine_function.ipynb\" target=\"_parent\"><img src=\"https://colab.research.google.com/assets/colab-badge.svg\" alt=\"Open In Colab\"/></a>"
      ]
    },
    {
      "metadata": {
        "id": "gy_DttJLEUxB",
        "colab_type": "code",
        "colab": {}
      },
      "cell_type": "code",
      "source": [
        "import numpy as np\n",
        "from keras.models import Sequential\n",
        "from keras.layers import Dense, Activation\n",
        "from keras.optimizers import SGD\n",
        "import tensorflow as tf\n",
        "import matplotlib.pyplot as plt\n",
        "from numpy.random import seed\n",
        "from tensorflow import set_random_seed\n",
        "\n",
        "seed(1)\n",
        "set_random_seed(2)\n",
        "\n",
        "x =  np.random.uniform(low=0,high=360,size=10000)\n",
        "y =  1+np.sin(np.deg2rad(x))\n",
        "\n",
        "model = Sequential()\n",
        "model.add(Dense(4, input_shape=(1,), kernel_initializer='uniform', activation='relu'))\n",
        "model.add(Dense(60,kernel_initializer='uniform', activation='relu'))\n",
        "## CHANGING THE ACTIVATION TO ANYTHING OTHER THAN linear CAUSES THE MODEL TO NOT CONVERGE; WHY?\n",
        "model.add(Dense(1, kernel_initializer='uniform', activation='linear'))\n",
        "model.compile(loss='mean_squared_error', optimizer='adam')\n",
        "\n",
        "history = model.fit(x,y, epochs=100, batch_size=32, verbose=0)\n",
        "\n",
        "plt.plot(history.history['loss'])\n",
        "plt.title('model loss')\n",
        "plt.ylabel('loss')\n",
        "plt.xlabel('epoch')\n",
        "plt.show()\n",
        "# print model.summary()\n",
        "loss_and_metrics = model.evaluate(x, y)\n",
        "print loss_and_metrics\n",
        "\n",
        "y1 = model.predict(x)\n",
        "\n",
        "plt.scatter(x, y,label='test data')\n",
        "plt.scatter(x, y1,label=\"predicted\")\n",
        "plt.legend()\n",
        "plt.show()"
      ],
      "execution_count": 0,
      "outputs": []
    }
  ]
}