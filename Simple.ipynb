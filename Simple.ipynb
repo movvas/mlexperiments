{
  "nbformat": 4,
  "nbformat_minor": 0,
  "metadata": {
    "colab": {
      "name": "Simple.ipynb",
      "version": "0.3.2",
      "provenance": [],
      "collapsed_sections": [],
      "include_colab_link": true
    },
    "kernelspec": {
      "name": "python2",
      "display_name": "Python 2"
    },
    "accelerator": "TPU"
  },
  "cells": [
    {
      "cell_type": "markdown",
      "metadata": {
        "id": "view-in-github",
        "colab_type": "text"
      },
      "source": [
        "<a href=\"https://colab.research.google.com/github/movvas/pychallenges/blob/master/Simple.ipynb\" target=\"_parent\"><img src=\"https://colab.research.google.com/assets/colab-badge.svg\" alt=\"Open In Colab\"/></a>"
      ]
    },
    {
      "metadata": {
        "id": "mn-INiFEI3cZ",
        "colab_type": "code",
        "colab": {
          "base_uri": "https://localhost:8080/",
          "height": 493
        },
        "outputId": "5c3d01d4-5ba1-4d24-dafe-d0d96c35e664"
      },
      "cell_type": "code",
      "source": [
        "import numpy as np\n",
        "from keras.models import Sequential\n",
        "from keras.layers import Dense, Activation\n",
        "from keras.optimizers import SGD\n",
        "import tensorflow as tf\n",
        "\n",
        "x = np.array([[1,0,0,0], [0,0,0,1], [0,0,1,0],[0,0,1,0],\n",
        "              [0,1,0,1], [0,1,1,0], [0,1,1,1], [1,0,1,1],\n",
        "              [1,1,0,1], [1,1,1,0], [1,0,1,1], [0,0,1,1]])\n",
        "y = np.array([[1,0,0,0],[1,0,0,0],[1,0,0,0],[1,0,0,0],\n",
        "              [0,1,0,0],[0,1,0,0],[0,0,1,0],[0,0,1,0],\n",
        "              [0,0,1,0],[0,0,1,0],[0,0,1,0],[0,1,0,0]])\n",
        "\n",
        "\n",
        "model = Sequential()\n",
        "model.add(Dense(4, input_shape=(4,)))\n",
        "model.add(Activation('sigmoid'))\n",
        "model.add(Dense(4))\n",
        "model.add(Activation('softmax'))\n",
        "model.compile(loss='categorical_crossentropy', optimizer=SGD(lr=0.1),metrics=['categorical_accuracy'])\n",
        "\n",
        "model.fit(x,y, epochs=10000, batch_size=8, verbose=0)\n",
        "#x2 = np.array([[0,0,0,0], [1,1,1,1], [0,0,1,0],[0,1,0,0]])\n",
        "#np.around(model.predict(x2))\n",
        "print model.summary()\n",
        "np.around(model.predict(x))\n"
      ],
      "execution_count": 12,
      "outputs": [
        {
          "output_type": "stream",
          "text": [
            "_________________________________________________________________\n",
            "Layer (type)                 Output Shape              Param #   \n",
            "=================================================================\n",
            "dense_23 (Dense)             (None, 4)                 20        \n",
            "_________________________________________________________________\n",
            "activation_23 (Activation)   (None, 4)                 0         \n",
            "_________________________________________________________________\n",
            "dense_24 (Dense)             (None, 4)                 20        \n",
            "_________________________________________________________________\n",
            "activation_24 (Activation)   (None, 4)                 0         \n",
            "=================================================================\n",
            "Total params: 40\n",
            "Trainable params: 40\n",
            "Non-trainable params: 0\n",
            "_________________________________________________________________\n",
            "None\n"
          ],
          "name": "stdout"
        },
        {
          "output_type": "execute_result",
          "data": {
            "text/plain": [
              "array([[1., 0., 0., 0.],\n",
              "       [1., 0., 0., 0.],\n",
              "       [1., 0., 0., 0.],\n",
              "       [1., 0., 0., 0.],\n",
              "       [0., 1., 0., 0.],\n",
              "       [0., 1., 0., 0.],\n",
              "       [0., 0., 1., 0.],\n",
              "       [0., 0., 1., 0.],\n",
              "       [0., 0., 1., 0.],\n",
              "       [0., 0., 1., 0.],\n",
              "       [0., 0., 1., 0.],\n",
              "       [0., 1., 0., 0.]], dtype=float32)"
            ]
          },
          "metadata": {
            "tags": []
          },
          "execution_count": 12
        }
      ]
    }
  ]
}