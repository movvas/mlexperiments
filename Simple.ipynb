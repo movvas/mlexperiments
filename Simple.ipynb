{
  "nbformat": 4,
  "nbformat_minor": 0,
  "metadata": {
    "colab": {
      "name": "Untitled2.ipynb",
      "version": "0.3.2",
      "provenance": [],
      "include_colab_link": true
    },
    "kernelspec": {
      "name": "python2",
      "display_name": "Python 2"
    },
    "accelerator": "TPU"
  },
  "cells": [
    {
      "cell_type": "markdown",
      "metadata": {
        "id": "view-in-github",
        "colab_type": "text"
      },
      "source": [
        "<a href=\"https://colab.research.google.com/github/movvas/pychallenges/blob/master/Simple.ipynb\" target=\"_parent\"><img src=\"https://colab.research.google.com/assets/colab-badge.svg\" alt=\"Open In Colab\"/></a>"
      ]
    },
    {
      "metadata": {
        "id": "mn-INiFEI3cZ",
        "colab_type": "code",
        "colab": {
          "base_uri": "https://localhost:8080/",
          "height": 221
        },
        "outputId": "e3c52667-c932-4cfd-f14b-306d31eb2635"
      },
      "cell_type": "code",
      "source": [
        "import numpy as np\n",
        "from keras.models import Sequential\n",
        "from keras.layers import Dense, Activation\n",
        "from keras.optimizers import SGD\n",
        "\n",
        "x = np.array([[1,0,0,0], [0,0,0,1], [0,0,1,0],[0,0,1,0],\n",
        "              [0,1,0,1], [0,1,1,0], [0,1,1,1], [1,0,1,1],\n",
        "              [1,1,0,1], [1,1,1,0], [1,0,1,0], [0,0,1,1]])\n",
        "y = np.array([[1,0,0,0],[1,0,0,0],[1,0,0,0],[1,0,0,0],\n",
        "              [0,1,0,0],[0,1,0,0],[0,0,1,0],[0,0,1,0],\n",
        "              [0,0,1,0],[0,0,1,0],[0,1,0,0],[0,1,0,0]])\n",
        "\n",
        "model = Sequential()\n",
        "model.add(Dense(4, input_shape=(4,)))\n",
        "model.add(Activation('sigmoid'))\n",
        "model.add(Dense(4))\n",
        "model.add(Activation('sigmoid'))\n",
        "model.compile(loss='mse', optimizer=SGD(lr=0.1))\n",
        "\n",
        "model.fit(x,y, epochs=10000, batch_size=1, verbose=0)\n",
        "\n",
        "np.around(model.predict(x))\n"
      ],
      "execution_count": 2,
      "outputs": [
        {
          "output_type": "execute_result",
          "data": {
            "text/plain": [
              "array([[1., 0., 0., 0.],\n",
              "       [1., 0., 0., 0.],\n",
              "       [1., 0., 0., 0.],\n",
              "       [1., 0., 0., 0.],\n",
              "       [0., 1., 0., 0.],\n",
              "       [0., 1., 0., 0.],\n",
              "       [0., 0., 1., 0.],\n",
              "       [0., 0., 1., 0.],\n",
              "       [0., 0., 1., 0.],\n",
              "       [0., 0., 1., 0.],\n",
              "       [0., 1., 0., 0.],\n",
              "       [0., 1., 0., 0.]], dtype=float32)"
            ]
          },
          "metadata": {
            "tags": []
          },
          "execution_count": 2
        }
      ]
    }
  ]
}