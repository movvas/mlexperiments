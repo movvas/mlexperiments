{
  "nbformat": 4,
  "nbformat_minor": 0,
  "metadata": {
    "colab": {
      "name": "Regression_Network.ipynb",
      "version": "0.3.2",
      "provenance": [],
      "collapsed_sections": [],
      "include_colab_link": true
    },
    "kernelspec": {
      "name": "python2",
      "display_name": "Python 2"
    },
    "accelerator": "TPU"
  },
  "cells": [
    {
      "cell_type": "markdown",
      "metadata": {
        "id": "view-in-github",
        "colab_type": "text"
      },
      "source": [
        "<a href=\"https://colab.research.google.com/github/movvas/pychallenges/blob/master/Regression_Network.ipynb\" target=\"_parent\"><img src=\"https://colab.research.google.com/assets/colab-badge.svg\" alt=\"Open In Colab\"/></a>"
      ]
    },
    {
      "metadata": {
        "id": "gy_DttJLEUxB",
        "colab_type": "code",
        "colab": {}
      },
      "cell_type": "code",
      "source": [
        "import numpy as np\n",
        "from keras.models import Sequential\n",
        "from keras.layers import Dense, Activation\n",
        "from keras.optimizers import SGD\n",
        "import tensorflow as tf\n",
        "import matplotlib.pyplot as plt\n",
        "sess = tf.Session()\n",
        "\n",
        "x = np.random.uniform(low=-180,high=180,size=2000)\n",
        "y =  np.sin(np.deg2rad(x))\n",
        "\n",
        "model = Sequential()\n",
        "model.add(Dense(1, input_shape=(1,)))\n",
        "model.add(Activation('sigmoid'))\n",
        "model.add(Dense(4))\n",
        "model.add(Activation('relu'))\n",
        "model.add(Dense(4))\n",
        "model.add(Activation('relu'))\n",
        "model.add(Dense(1))\n",
        "model.add(Activation('sigmoid'))\n",
        "# No metrics to track accuracy as it is not a classification problem\n",
        "model.compile(loss='mse', optimizer='adam')\n",
        "\n",
        "history = model.fit(x,y, epochs=5000, batch_size=32, verbose=0)\n",
        "\n",
        "# summarize history for accuracy\n",
        "# plt.plot(history.history['sine'],)\n",
        "# plt.title('model accuracy')\n",
        "# plt.ylabel('accuracy')\n",
        "# plt.xlabel('epoch')\n",
        "# plt.legend(['train'], loc='upper left')\n",
        "# plt.show()\n",
        "# summarize history for loss\n",
        "plt.plot(history.history['loss'])\n",
        "plt.title('model loss')\n",
        "plt.ylabel('loss')\n",
        "plt.xlabel('epoch')\n",
        "plt.legend(['train'], loc='upper left')\n",
        "plt.show()\n",
        "#x2 = np.array([[0,0,0,0], [1,1,1,1], [0,0,1,0],[0,1,0,0]])\n",
        "#np.around(model.predict(x2))\n",
        "print model.summary()\n",
        "loss_and_metrics = model.evaluate(x, y)\n",
        "print loss_and_metrics\n"
      ],
      "execution_count": 0,
      "outputs": []
    }
  ]
}